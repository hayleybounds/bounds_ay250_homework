{
 "cells": [
  {
   "cell_type": "markdown",
   "metadata": {},
   "source": [
    "## General Commentary\n",
    "(this is also present in the README)\n",
    "All run on a linux virtual box guest on a windows 10 host. Intel i5-7200u cpu, 2.5 GHz clock speed, two cores, four threads.\n",
    "\n",
    "Initially, the multiprocessing implementation ran faster than the serial implementation for me. However, it suddenly started taking as long or longer, despite me not changing the code. I'm not sure why it changed, I tried several different implementations to try to speed it up, but nothing worked. My dask code consistently runs quite a bit faster though!\n",
    "\n",
    "I chose four workers for everything because thats the number of threads I have. Trying different numbers of workers didn't seem to affect performance that much. I broke things into 8 chunks to prevent lags from a single slow worker."
   ]
  },
  {
   "cell_type": "code",
   "execution_count": 1,
   "metadata": {},
   "outputs": [],
   "source": [
    "from random import uniform\n",
    "from math import sqrt\n",
    "from time import time\n",
    "from multiprocessing import Pool\n",
    "import dask.array as da\n",
    "import dask\n",
    "from distributed import Client\n",
    "import numpy as np"
   ]
  },
  {
   "cell_type": "markdown",
   "metadata": {},
   "source": [
    "## Serial Implementation"
   ]
  },
  {
   "cell_type": "code",
   "execution_count": 2,
   "metadata": {},
   "outputs": [],
   "source": [
    "def serial_throw_darts(n_darts):\n",
    "    n_darts_in_circle = 0 #to store how many fall in circle\n",
    "    t0 = time() #record start time\n",
    "    for n in range(n_darts):\n",
    "        x,y = uniform(0,1), uniform(0,1) #rand pos where dart falls\n",
    "        #check if dart pos is w/i .5 of origin and thus inside circle\n",
    "        if sqrt((x-.5)**2 + (y-.5)**2) <= .5: \n",
    "            n_darts_in_circle += 1\n",
    "            \n",
    "    execution_time = time() - t0 #time to run\n",
    "    \n",
    "    #A=pi*r**2, r=.5, so pi = A/.5**2, or pi = 4A\n",
    "    #A is approximated by fraction of darts that fell in circle\n",
    "    pi_approx = 4 * n_darts_in_circle/float(n_darts)\n",
    "    \n",
    "    dps = n_darts/execution_time #darts per second\n",
    "    return pi_approx, n_darts, execution_time, dps"
   ]
  },
  {
   "cell_type": "markdown",
   "metadata": {},
   "source": [
    "## Multiprocessing \n",
    "using a pool to break down the problem and map it to different workers. Each worker throws chunksize darts, then returns how many of those fell inside the circle"
   ]
  },
  {
   "cell_type": "code",
   "execution_count": 15,
   "metadata": {},
   "outputs": [],
   "source": [
    "def multiproc_throw_darts(n_darts, n_workers):\n",
    "    \n",
    "    #to map to multiple workers, have each of them throw n_darts/(n_workers*2)\n",
    "    #darts, tell you how many were in circle, and then sum over all of them\n",
    "    \n",
    "    #break it into n_workers * 2 jobs so that the slowest worker doesn't hold things up\n",
    "    num_chunks = n_workers*2\n",
    "    chunksize = int(n_darts/num_chunks)\n",
    "    #create an array that is nchunks long, where each entry is chunksize\n",
    "    chunks = [[chunksize]*(num_chunks)][0]\n",
    "    t0 = time()\n",
    "    \n",
    "    #create pool\n",
    "    pool = Pool(processes = n_workers)\n",
    "    chunk_results = pool.map(throw_n_darts, chunks)\n",
    "    n_darts_in_circle = sum(chunk_results)\n",
    "    pool.close()\n",
    "    execution_time = time() - t0 #time to run\n",
    "    \n",
    "    #A=pi*r**2, r=.5, so pi = A/.5**2, or pi = 4A\n",
    "    #A is approximated by fraction of darts that fell in circle\n",
    "    pi_approx = 4 * n_darts_in_circle/float(n_darts)\n",
    "    \n",
    "    dps = n_darts/execution_time #darts per second\n",
    "    return pi_approx, n_darts, execution_time, dps"
   ]
  },
  {
   "cell_type": "code",
   "execution_count": 16,
   "metadata": {},
   "outputs": [],
   "source": [
    "def throw_n_darts(n):\n",
    "    n_darts_in_circle = 0\n",
    "    for _ in range(n):\n",
    "        x,y = uniform(0,1), uniform(0,1) #rand pos where dart falls\n",
    "        #check if dart pos is w/i .5 of origin and thus inside circle\n",
    "        if sqrt((x-.5)**2 + (y-.5)**2) <= .5: \n",
    "            n_darts_in_circle += 1\n",
    "    return n_darts_in_circle\n",
    "            "
   ]
  },
  {
   "cell_type": "markdown",
   "metadata": {},
   "source": [
    "## Dask\n",
    "\n",
    "Create a 2xn_darts dask array that represents the x,y coordinate pair for each dart thrown. Then do all the operations on that array. Only apply the operations in the final step, and compute them in parallel."
   ]
  },
  {
   "cell_type": "code",
   "execution_count": 17,
   "metadata": {},
   "outputs": [],
   "source": [
    "def dask_throw_darts(n_darts, chunksize):\n",
    "    t0 = time()\n",
    "    \n",
    "    #create a 2 x n_darts array representing x + y coords of each dart\n",
    "    xys = da.random.uniform(0,1,size=(2,n_darts), chunks = (2,chunksize))\n",
    "    #for each single number in array, subtract .5 and raise to 2nd power\n",
    "    xys = xys.map_blocks(lambda x: (x-.5) ** 2)\n",
    "    #then add (x-.5)^2+(y-.5)^2 together\n",
    "    xys = xys.sum(axis = 0)\n",
    "    #then take the square root of the sum\n",
    "    xys = xys**.5\n",
    "    #finally, make all within the circle 1, and all outside the circle 0\n",
    "    xys = xys.map_blocks(lambda x: np.asarray([1 if i<=.5 else 0 for i in x]))\n",
    "    \n",
    "    #then sum that array. compute in parallel with 4 workers.\n",
    "    n_darts_in_circle = xys.sum().compute(num_workers = 4)\n",
    "    \n",
    "    execution_time = time() - t0 #time to run\n",
    "    \n",
    "    #A=pi*r**2, r=.5, so pi = A/.5**2, or pi = 4A\n",
    "    #A is approximated by fraction of darts that fell in circle\n",
    "    pi_approx = 4 * n_darts_in_circle/float(n_darts)\n",
    "    \n",
    "    dps = n_darts/execution_time #darts per second\n",
    "    return pi_approx, n_darts, execution_time, dps"
   ]
  },
  {
   "cell_type": "markdown",
   "metadata": {},
   "source": [
    "## Testing and Visualization"
   ]
  },
  {
   "cell_type": "code",
   "execution_count": 18,
   "metadata": {},
   "outputs": [],
   "source": [
    "#run a bunch of iterations at a bunch of different ns to test performance This takes a LONG TIME\n",
    "dart_ns = [10**1, 10**2, 10**3, 10**4, 10**5, 10**6,10**7,10**8]\n",
    "iters = 5\n",
    "multp_ts = []\n",
    "dask_ts = []\n",
    "serial_ts = []\n",
    "for n in dart_ns:\n",
    "    multp_ts_temp = []\n",
    "    dask_ts_temp = []\n",
    "    serial_ts_temp = []\n",
    "    for _ in range(iters):\n",
    "        serial_ts_temp.append(serial_throw_darts(n)[2])\n",
    "        multp_ts_temp.append(multiproc_throw_darts(n,4)[2])\n",
    "        dask_ts_temp.append(dask_throw_darts(n, int(n/8))[2])\n",
    "    multp_ts.append(multp_ts_temp)\n",
    "    dask_ts.append(dask_ts_temp)\n",
    "    serial_ts.append(serial_ts_temp)\n",
    "        "
   ]
  },
  {
   "cell_type": "code",
   "execution_count": 19,
   "metadata": {},
   "outputs": [],
   "source": [
    "import matplotlib.pyplot as plt"
   ]
  },
  {
   "cell_type": "code",
   "execution_count": 20,
   "metadata": {
    "scrolled": false
   },
   "outputs": [
    {
     "data": {
      "image/png": "[encoded data removed]",
      "text/plain": [
       "<matplotlib.figure.Figure at 0x7fa228332d30>"
      ]
     },
     "metadata": {},
     "output_type": "display_data"
    }
   ],
   "source": [
    "mp_means = []\n",
    "d_means = []\n",
    "s_means = []\n",
    "for i in range(len(dart_ns)):\n",
    "    mp_means.append(np.mean(multp_ts[i]))\n",
    "    d_means.append(np.mean(dask_ts[i]))\n",
    "    s_means.append(np.mean(serial_ts[i]))\n",
    "    \n",
    "mp_sds = []\n",
    "d_sds = []\n",
    "s_sds = []\n",
    "for i in range(len(dart_ns)):\n",
    "    mp_sds.append(np.std(multp_ts[i]))\n",
    "    d_sds.append(np.std(dask_ts[i]))\n",
    "    s_sds.append(np.std(serial_ts[i]))\n",
    "    \n",
    "plt.plot(dart_ns, mp_means,'b-', label = 'multiprocessing')\n",
    "plt.plot(dart_ns, d_means,'r-', label = 'dask')\n",
    "plt.plot(dart_ns, s_means,'g-', label = 'serial')\n",
    "plt.legend(title = 'implementation', loc=4)\n",
    "\n",
    "plt.fill_between(dart_ns, np.asarray(mp_means)+np.asarray(mp_sds),\n",
    "                 np.asarray(mp_means)-np.asarray(mp_sds), facecolor = 'b', alpha = .3)\n",
    "\n",
    "plt.fill_between(dart_ns, np.asarray(d_means)+np.asarray(d_sds),\n",
    "                 np.asarray(d_means)-np.asarray(d_sds), facecolor = 'r', alpha = .3)\n",
    "\n",
    "plt.fill_between(dart_ns, np.asarray(s_means)+np.asarray(s_sds),\n",
    "                 np.asarray(s_means)-np.asarray(s_sds), facecolor = 'g', alpha = .3)\n",
    "\n",
    "\n",
    "ax =plt.gca()\n",
    "ax.set_yscale('log')\n",
    "ax.set_xscale('log')\n",
    "ax2 = ax.twinx()\n",
    "ax2.plot(dart_ns, np.asarray(dart_ns)/np.asarray(mp_means),'b--', label = 'multiprocessing')\n",
    "ax2.plot(dart_ns, np.asarray(dart_ns)/np.asarray(d_means),'r--', label = 'dask')\n",
    "ax2.plot(dart_ns,np.asarray(dart_ns)/ np.asarray(s_means),'g--', label = 'serial')\n",
    "\n",
    "ax2.set_yscale('log')\n",
    "\n",
    "ax2.set_ylabel('Simulation Rate (darts/second), dashed line')\n",
    "ax.set_ylabel('Execution Time (seconds), solid line')\n",
    "ax.set_xlabel('Darts Thrown');"
   ]
  },
  {
   "cell_type": "code",
   "execution_count": null,
   "metadata": {},
   "outputs": [],
   "source": []
  }
 ],
 "metadata": {
  "kernelspec": {
   "display_name": "Python 3",
   "language": "python",
   "name": "python3"
  },
  "language_info": {
   "codemirror_mode": {
    "name": "ipython",
    "version": 3
   },
   "file_extension": ".py",
   "mimetype": "text/x-python",
   "name": "python",
   "nbconvert_exporter": "python",
   "pygments_lexer": "ipython3",
   "version": "3.6.3"
  }
 },
 "nbformat": 4,
 "nbformat_minor": 2
}
