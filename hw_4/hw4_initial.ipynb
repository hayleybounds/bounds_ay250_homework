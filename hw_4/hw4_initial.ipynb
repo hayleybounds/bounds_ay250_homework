{
 "cells": [
  {
   "cell_type": "code",
   "execution_count": 1,
   "metadata": {},
   "outputs": [],
   "source": [
    "from random import uniform\n",
    "from math import sqrt\n",
    "from time import time\n",
    "from multiprocessing import Pool\n",
    "import dask.array as da\n",
    "import dask\n",
    "from distributed import Client\n",
    "import numpy as np"
   ]
  },
  {
   "cell_type": "markdown",
   "metadata": {},
   "source": [
    "## Serial Implementation"
   ]
  },
  {
   "cell_type": "code",
   "execution_count": 2,
   "metadata": {},
   "outputs": [],
   "source": [
    "def serial_throw_darts(n_darts):\n",
    "    n_darts_in_circle = 0 #to store how many fall in circle\n",
    "    t0 = time() #record start time\n",
    "    for n in range(n_darts):\n",
    "        x,y = uniform(0,1), uniform(0,1) #rand pos where dart falls\n",
    "        #check if dart pos is w/i .5 of origin and thus inside circle\n",
    "        if sqrt((x-.5)**2 + (y-.5)**2) <= .5: \n",
    "            n_darts_in_circle += 1\n",
    "            \n",
    "    execution_time = time() - t0 #time to run\n",
    "    \n",
    "    #A=pi*r**2, r=.5, so pi = A/.5**2, or pi = 4A\n",
    "    #A is approximated by fraction of darts that fell in circle\n",
    "    pi_approx = 4 * n_darts_in_circle/float(n_darts)\n",
    "    \n",
    "    dps = n_darts/execution_time #darts per second\n",
    "    return pi_approx, n_darts, execution_time, dps"
   ]
  },
  {
   "cell_type": "markdown",
   "metadata": {},
   "source": [
    "## Multiprocessing "
   ]
  },
  {
   "cell_type": "code",
   "execution_count": 3,
   "metadata": {},
   "outputs": [],
   "source": [
    "def multiproc_throw_darts(n_darts, n_workers):\n",
    "    t0 = time()\n",
    "    \n",
    "    #create pool\n",
    "    pool = Pool(processes = n_workers)\n",
    "    #to map to multiple workers, have each of them throw n_darts/n_workers \n",
    "    #darts, and then sum over all of them\n",
    "    #break it into n_workers * 2 jobs so that the slowest worker doesn't hold things up\n",
    "    chunksize = int(n_darts/(n_workers*2))\n",
    "    chunk_results = pool.map(throw_n_darts, [[chunksize]*(n_workers*2)][0])\n",
    "    n_darts_in_circle = sum(chunk_results)\n",
    "    pool.close()\n",
    "    \n",
    "    execution_time = time() - t0 #time to run\n",
    "    \n",
    "    #A=pi*r**2, r=.5, so pi = A/.5**2, or pi = 4A\n",
    "    #A is approximated by fraction of darts that fell in circle\n",
    "    pi_approx = 4 * n_darts_in_circle/float(n_darts)\n",
    "    \n",
    "    dps = n_darts/execution_time #darts per second\n",
    "    return pi_approx, n_darts, execution_time, dps"
   ]
  },
  {
   "cell_type": "code",
   "execution_count": 4,
   "metadata": {},
   "outputs": [],
   "source": [
    "def throw_n_darts(n):\n",
    "    n_darts_in_circle = 0\n",
    "    for _ in range(n):\n",
    "        x,y = uniform(0,1), uniform(0,1) #rand pos where dart falls\n",
    "        #check if dart pos is w/i .5 of origin and thus inside circle\n",
    "        if sqrt((x-.5)**2 + (y-.5)**2) <= .5: \n",
    "            n_darts_in_circle += 1\n",
    "    return n_darts_in_circle\n",
    "            "
   ]
  },
  {
   "cell_type": "markdown",
   "metadata": {},
   "source": [
    "## Dask?"
   ]
  },
  {
   "cell_type": "code",
   "execution_count": 9,
   "metadata": {},
   "outputs": [],
   "source": [
    "def dask_throw_darts(n_darts, chunksize):\n",
    "    t0 = time()\n",
    "    \n",
    "    xys = da.random.uniform(0,1,size=(2,n_darts), chunks = (2,chunksize))\n",
    "    xys = xys.map_blocks(lambda x: (x-.5) ** 2)\n",
    "    xys = xys.sum(axis = 0)\n",
    "    xys = xys**.5\n",
    "    xys = xys.map_blocks(lambda x: np.asarray([1 if i<=.5 else 0 for i in x]))\n",
    "\n",
    "    n_darts_in_circle = xys.sum().compute(num_workers = 4)\n",
    "    \n",
    "    execution_time = time() - t0 #time to run\n",
    "    \n",
    "    #A=pi*r**2, r=.5, so pi = A/.5**2, or pi = 4A\n",
    "    #A is approximated by fraction of darts that fell in circle\n",
    "    pi_approx = 4 * n_darts_in_circle/float(n_darts)\n",
    "    \n",
    "    dps = n_darts/execution_time #darts per second\n",
    "    return pi_approx, n_darts, execution_time, dps"
   ]
  },
  {
   "cell_type": "code",
   "execution_count": null,
   "metadata": {},
   "outputs": [
    {
     "name": "stdout",
     "output_type": "stream",
     "text": [
      "10\n",
      "100\n",
      "1000\n",
      "10000\n",
      "100000\n",
      "1000000\n",
      "10000000\n",
      "100000000\n"
     ]
    }
   ],
   "source": [
    "dart_ns = [10**1, 10**2, 10**3, 10**4, 10**5, 10**6,10**7,10**8]\n",
    "iters = 5\n",
    "multp_ts = []\n",
    "dask_ts = []\n",
    "serial_ts = []\n",
    "for n in dart_ns:\n",
    "    print(n)\n",
    "    multp_ts_temp = []\n",
    "    dask_ts_temp = []\n",
    "    serial_ts_temp = []\n",
    "    for _ in range(iters):\n",
    "        print(_)\n",
    "        multp_ts_temp.append(multiproc_throw_darts(n,4)[2])\n",
    "        dask_ts_temp.append(dask_throw_darts(n, int(n/8))[2])\n",
    "        serial_ts_temp.append(serial_throw_darts(n)[2])\n",
    "    multp_ts.append(multp_ts_temp)\n",
    "    dask_ts.append(dask_ts_temp)\n",
    "    serial_ts.append(serial_ts_temp)\n",
    "        "
   ]
  },
  {
   "cell_type": "code",
   "execution_count": 14,
   "metadata": {},
   "outputs": [],
   "source": [
    "import matplotlib.pyplot as plt"
   ]
  },
  {
   "cell_type": "code",
   "execution_count": 27,
   "metadata": {},
   "outputs": [
    {
     "data": {
      "text/plain": [
       "[<matplotlib.lines.Line2D at 0x7fde66109588>]"
      ]
     },
     "execution_count": 27,
     "metadata": {},
     "output_type": "execute_result"
    },
    {
     "data": {
      "image/png": "[encoded data removed]",
      "text/plain": [
       "<matplotlib.figure.Figure at 0x7fde66197940>"
      ]
     },
     "metadata": {},
     "output_type": "display_data"
    }
   ],
   "source": [
    "mp_means = []\n",
    "d_means = []\n",
    "s_means = []\n",
    "for i in range(len(dart_ns)):\n",
    "    mp_means.append(np.mean(multp_ts[i]))\n",
    "    d_means.append(np.mean(dask_ts[i]))\n",
    "    s_means.append(np.mean(serial_ts[i]))\n",
    "    \n",
    "mp_sds = []\n",
    "d_sds = []\n",
    "s_sds = []\n",
    "for i in range(len(dart_ns)):\n",
    "    mp_sds.append(np.std(multp_ts[i]))\n",
    "    d_sds.append(np.std(dask_ts[i]))\n",
    "    s_sds.append(np.std(serial_ts[i]))\n",
    "    \n",
    "#plt.plot([dart_ns[i]/mp_means[i] for i in range(0,len(dart_ns))],'b-')\n",
    "#plt.plot([dart_ns[i]/d_means[i] for i in range(0,len(dart_ns))],'r-')\n",
    "#plt.plot([dart_ns[i]/s_means[i] for i in range(0,len(dart_ns))],'g-')\n",
    "plt.plot(dart_ns, mp_means,'b-')\n",
    "plt.plot(dart_ns, d_means,'r-')\n",
    "plt.plot(dart_ns, s_means,'g-')\n",
    "plt.plot(dart_ns, np.asarray(mp_means)+np.asarray(mp_sds),np.asarray(mp_means)-np.asarray(mp_sds),'b', alpha = .3)\n",
    "\n",
    "plt.plot(dart_ns, np.asarray(d_means)+np.asarray(d_sds),np.asarray(d_means)-np.asarray(d_sds),'r', alpha = .3)\n",
    "\n",
    "plt.plot(dart_ns, np.asarray(s_means)+np.asarray(s_sds),np.asarray(s_means)-np.asarray(s_sds),'g', alpha = .3)\n",
    "#plt.plot(np.asarray(mp_means)+np.asarray(mp_sds),'b--')\n",
    "#plt.plot(np.asarray(d_means)+np.asarray(d_sds),'r--')\n",
    "#plt.plot(np.asarray(s_means)+np.asarray(s_sds),'g--')"
   ]
  },
  {
   "cell_type": "code",
   "execution_count": null,
   "metadata": {},
   "outputs": [],
   "source": []
  }
 ],
 "metadata": {
  "kernelspec": {
   "display_name": "Python 3",
   "language": "python",
   "name": "python3"
  },
  "language_info": {
   "codemirror_mode": {
    "name": "ipython",
    "version": 3
   },
   "file_extension": ".py",
   "mimetype": "text/x-python",
   "name": "python",
   "nbconvert_exporter": "python",
   "pygments_lexer": "ipython3",
   "version": "3.6.3"
  }
 },
 "nbformat": 4,
 "nbformat_minor": 2
}
