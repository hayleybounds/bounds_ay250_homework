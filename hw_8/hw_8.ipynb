{
 "cells": [
  {
   "cell_type": "markdown",
   "metadata": {},
   "source": [
    "# Homework 8\n",
    "Currently breaking it up into subsections that I can work on\n",
    "\n",
    "QUESTIONS:\n",
    "\n",
    "Should you be able to upload database files also??"
   ]
  },
  {
   "cell_type": "code",
   "execution_count": 181,
   "metadata": {},
   "outputs": [
    {
     "name": "stderr",
     "output_type": "stream",
     "text": [
      "/home/hayley/.conda/envs/my_root/lib/python3.6/site-packages/flask_sqlalchemy/__init__.py:774: UserWarning: Neither SQLALCHEMY_DATABASE_URI nor SQLALCHEMY_BINDS is set. Defaulting SQLALCHEMY_DATABASE_URI to \"sqlite:///:memory:\".\n",
      "  'Neither SQLALCHEMY_DATABASE_URI nor SQLALCHEMY_BINDS is set. '\n",
      "/home/hayley/.conda/envs/my_root/lib/python3.6/site-packages/flask_sqlalchemy/__init__.py:794: FSADeprecationWarning: SQLALCHEMY_TRACK_MODIFICATIONS adds significant overhead and will be disabled by default in the future.  Set it to True or False to suppress this warning.\n",
      "  'SQLALCHEMY_TRACK_MODIFICATIONS adds significant overhead and '\n"
     ]
    }
   ],
   "source": [
    "from flask import Flask, render_template, request, url_for, redirect, flash\n",
    "import flask\n",
    "import pybtex.database as pb\n",
    "from flask_sqlalchemy import SQLAlchemy\n",
    "\n",
    "app = Flask(__name__)\n",
    "app.debug = True\n",
    "app.secret_key = 'Super Secret PW'\n",
    "db=SQLAlchemy(app)\n",
    "\n",
    "#TODO: somehow move at least some of this to another file?\n",
    "class Citation(db.Model):\n",
    "    __tablename__ = 'bibliography'\n",
    "    id = db.Column(db.Integer, primary_key=True)\n",
    "    ref_tag = db.Column(db.String)\n",
    "    Collection = db.Column(db.String)\n",
    "    #Adsnote = db.Column(db.String)\n",
    "    #Adsurl = db.Column(db.String)\n",
    "    Author = db.Column(db.String)\n",
    "    #Date_Added = db.Column(db.Date)\n",
    "    #Date_Modified = db.Column(db.Date)\n",
    "    Journal = db.Column(db.String)\n",
    "    Keywords = db.Column(db.String)\n",
    "    #Month = db.Column(db.String)\n",
    "    Pages = db.Column(db.String) #I think?\n",
    "    Title = db.Column(db.String)\n",
    "    Volume = db.Column(db.Integer)\n",
    "    Year = db.Column(db.Integer)\n",
    "    #Bdsk_File_1  = db.Column(db.String)\n",
    "    \n",
    "db.create_all()"
   ]
  },
  {
   "cell_type": "code",
   "execution_count": 182,
   "metadata": {},
   "outputs": [],
   "source": [
    "#test out pybtex\n",
    "import pybtex.database as pb\n",
    "\n",
    "    \n",
    "def add_entry_to_db(key, entry, collection):\n",
    "    keywords = {}\n",
    "    for field in ['Title', 'Author','Journal', 'Keywords', 'Pages', 'Volume', 'Year']:\n",
    "        if field in entry.fields:\n",
    "            keywords[field] = entry.fields[field]\n",
    "        else:\n",
    "            keywords[field] = None\n",
    "    db.session.add(Citation(**keywords, Collection = collection, ref_tag = key))\n",
    "    db.session.commit()\n",
    "x=pb.parse_file('hw_8_data/homework_8_refs.bib')\n",
    "for k,v in x.entries.items():\n",
    "    add_entry_to_db(k, v, 'col')"
   ]
  },
  {
   "cell_type": "code",
   "execution_count": 187,
   "metadata": {},
   "outputs": [
    {
     "data": {
      "text/plain": [
       "['{Reddenings of Cepheids using BVI photometry}',\n",
       " '{1777 variables in the Magellanic Clouds}',\n",
       " '{Periods of 25 Variable Stars in the Small Magellanic Cloud.}']"
      ]
     },
     "execution_count": 187,
     "metadata": {},
     "output_type": "execute_result"
    }
   ],
   "source": [
    "[c.Title for c in Citation.query.filter(Citation.Year < 1980).all()]"
   ]
  },
  {
   "cell_type": "code",
   "execution_count": 199,
   "metadata": {},
   "outputs": [],
   "source": [
    "res = db.session.execute('SELECT * FROM bibliography WHERE Year < 1980')"
   ]
  },
  {
   "cell_type": "code",
   "execution_count": 200,
   "metadata": {},
   "outputs": [
    {
     "name": "stdout",
     "output_type": "stream",
     "text": [
      "{Reddenings of Cepheids using BVI photometry}\n",
      "{1777 variables in the Magellanic Clouds}\n",
      "{Periods of 25 Variable Stars in the Small Magellanic Cloud.}\n"
     ]
    }
   ],
   "source": [
    "for row in res:\n",
    "    print(row['Title'])"
   ]
  },
  {
   "cell_type": "markdown",
   "metadata": {},
   "source": [
    "# Part 1: Basic Flask Website Architecture"
   ]
  },
  {
   "cell_type": "code",
   "execution_count": 79,
   "metadata": {},
   "outputs": [
    {
     "name": "stdout",
     "output_type": "stream",
     "text": [
      "Overwriting templates/base.html\n"
     ]
    }
   ],
   "source": [
    "%%writefile templates/base.html\n",
    "<!DOCTYPE html>\n",
    "<html>\n",
    "    <head>\n",
    "        <title>My Super Site</title>\n",
    "    </head>\n",
    "\n",
    "    <body>\n",
    "        <h1>{{ page_title }}</h1>\n",
    "        \n",
    "        <h2>\n",
    "    <a href=\"{{ url_for('home') }}\">Home</a>\n",
    "    <a href=\"{{ url_for('query_db') }}\">Query Database</a>\n",
    "    <a href=\"{{ url_for('upload_file') }}\">Upload a File</a>\n",
    "    </h2>\n",
    "\n",
    "    {{ message | safe}}        \n",
    "    {% block content %}{% endblock %}        \n",
    "    </body>\n",
    "</html>\n"
   ]
  },
  {
   "cell_type": "code",
   "execution_count": 218,
   "metadata": {},
   "outputs": [
    {
     "name": "stdout",
     "output_type": "stream",
     "text": [
      "Overwriting templates/form.html\n"
     ]
    }
   ],
   "source": [
    "%%writefile templates/form.html\n",
    "{% extends \"base.html\" %}\n",
    "{% block content %}\n",
    "            <form action=\"/query_database/\" method=\"POST\">\n",
    "            Make a query: \n",
    "            <input type=\"text\" name=\"query\" />\n",
    "            <input type=\"submit\" />\n",
    "            </form>\n",
    "            {% with messages = get_flashed_messages() %}\n",
    "            {% if messages %}\n",
    "    <ul class=flashes>\n",
    "    {% for message in messages %}\n",
    "      <li>{{ message | safe}}</li>\n",
    "    {% endfor %}\n",
    "    </ul>\n",
    "  {% endif %}\n",
    "{% endwith %}\n",
    "{% endblock %}"
   ]
  },
  {
   "cell_type": "code",
   "execution_count": 34,
   "metadata": {},
   "outputs": [
    {
     "name": "stdout",
     "output_type": "stream",
     "text": [
      "Overwriting templates/file_up.html\n"
     ]
    }
   ],
   "source": [
    "%%writefile templates/file_up.html\n",
    "{% extends \"base.html\" %}\n",
    "\n",
    "{% set page_title = 'Choose file to upload' %}\n",
    "{% block content %}\n",
    "   \n",
    "      <form action = \"/upload_file/\" method = \"POST\" \n",
    "         enctype = \"multipart/form-data\">\n",
    "        <input type = \"text\" name = \"collection_name\" />\n",
    "\n",
    "         <input type = \"file\" name = \"file\" />\n",
    "         <input type = \"submit\"/>\n",
    "      </form>\n",
    "      \n",
    "{% endblock %}"
   ]
  },
  {
   "cell_type": "code",
   "execution_count": null,
   "metadata": {},
   "outputs": [],
   "source": []
  },
  {
   "cell_type": "code",
   "execution_count": 219,
   "metadata": {},
   "outputs": [
    {
     "name": "stdout",
     "output_type": "stream",
     "text": [
      "Overwriting basic_site.py\n"
     ]
    }
   ],
   "source": [
    "%%writefile basic_site.py\n",
    "\n",
    "from flask import Flask, render_template, request, url_for, redirect, flash\n",
    "import flask\n",
    "import pybtex.database as pb\n",
    "from flask_sqlalchemy import SQLAlchemy\n",
    "\n",
    "app = Flask(__name__)\n",
    "app.debug = True\n",
    "app.secret_key = 'Super Secret PW'\n",
    "db=SQLAlchemy(app)\n",
    "\n",
    "#TODO: somehow move at least some of this to another file?\n",
    "class Citation(db.Model):\n",
    "    __tablename__ = 'bibliography'\n",
    "    id = db.Column(db.Integer, primary_key=True)\n",
    "    ReferenceTag = db.Column(db.String)\n",
    "    Collection = db.Column(db.String)\n",
    "    #Adsnote = db.Column(db.String)\n",
    "    #Adsurl = db.Column(db.String)\n",
    "    Author = db.Column(db.String)\n",
    "    #Date_Added = db.Column(db.Date)\n",
    "    #Date_Modified = db.Column(db.Date)\n",
    "    Journal = db.Column(db.String)\n",
    "    Keywords = db.Column(db.String)\n",
    "    #Month = db.Column(db.String)\n",
    "    Pages = db.Column(db.String) #I think?\n",
    "    Title = db.Column(db.String)\n",
    "    Volume = db.Column(db.Integer)\n",
    "    Year = db.Column(db.Integer)\n",
    "    #Bdsk_File_1  = db.Column(db.String)\n",
    "    \n",
    "db.create_all()\n",
    "\n",
    "@app.route(\"/\")\n",
    "@app.route(\"/home\")\n",
    "def home():\n",
    "    return render_template('base.html', page_title=\"Home\", message=\"Welcome! </p> this is my site\")\n",
    "\n",
    "@app.route('/query_database/', methods=['GET', 'POST'])\n",
    "def query_db():\n",
    "    if request.method == 'POST':\n",
    "        query = request.form['query']\n",
    "        #empty form submission doesn't return None, so don't check for that\n",
    "        if query not in (\"\",\" \"):\n",
    "            result=db.engine.execute(query).fetchall()\n",
    "            if len(result) > 0:\n",
    "                display_query_results(x)\n",
    "            else:\n",
    "                flash('No results to display :(')\n",
    "            return render_template('form.html', page_title= 'Results for : ' + query)\n",
    "        else:\n",
    "            return render_template('form.html', page_title= 'Query Database', \n",
    "                                   message='Invalid query. Please try again')\n",
    "    else:\n",
    "        ## this is a normal GET request\n",
    "        return render_template(\"form.html\", page_title = 'Query a Database :)')\n",
    "    \n",
    "    \n",
    "    \n",
    "@app.route('/upload_file/', methods=['GET', 'POST'])\n",
    "def upload_file():\n",
    "    if request.method == 'POST':\n",
    "        if 'file' not in request.files:\n",
    "            return render_template('file_up.html', message = 'Please Choose a File')\n",
    "        file = request.files['file']\n",
    "        if file not in (\"\",\" \"):\n",
    "            coll_name = request.form['collection_name']\n",
    "            if coll_name not in (\"\",\" \",None):\n",
    "                #read and convert to this database thing.\n",
    "                x=pb.parse_bytes(file.read(), bib_format='bibtex')\n",
    "                for k, entry in x.entries.items():\n",
    "                    add_entry_to_db(k, entry, coll_name)\n",
    "                return render_template('base.html', page_title= coll_name)\n",
    "            else:\n",
    "                return render_template('file_up.html',\n",
    "                                       message = 'Please enter a valid collection name')\n",
    "        else:\n",
    "            return render_template('file_up.html', message = 'Please Choose a File')\n",
    "    else:\n",
    "        ## this is a normal GET request\n",
    "        return render_template(\"file_up.html\", page_title = 'Upload a File :)')\n",
    "\n",
    "def display_query_results(results):\n",
    "    fields = ['ReferenceTag','Collection', 'Title', 'Author','Journal', 'Keywords',\n",
    "              'Pages', 'Volume', 'Year']\n",
    "    for row in results:\n",
    "        for field in fields:\n",
    "            print(field)\n",
    "            flash(field + ': ' + str(row[field]))\n",
    "        flash('</br>')\n",
    "    \n",
    "    \n",
    "def add_entry_to_db(key, entry, collection):\n",
    "    keywords = {}\n",
    "    for field in ['Title', 'Author','Journal', 'Keywords', 'Pages', 'Volume', 'Year']:\n",
    "        if field in entry.fields:\n",
    "            keywords[field] = entry.fields[field]\n",
    "        else:\n",
    "            keywords[field] = None\n",
    "    db.session.add(Citation(**keywords, Collection = collection, ReferenceTag = key))\n",
    "    db.session.commit()\n",
    "    \n",
    "if __name__ == \"__main__\":\n",
    "    app.run()"
   ]
  },
  {
   "cell_type": "code",
   "execution_count": 215,
   "metadata": {
    "scrolled": true
   },
   "outputs": [
    {
     "name": "stderr",
     "output_type": "stream",
     "text": [
      "/home/hayley/.conda/envs/my_root/lib/python3.6/site-packages/flask_sqlalchemy/__init__.py:774: UserWarning: Neither SQLALCHEMY_DATABASE_URI nor SQLALCHEMY_BINDS is set. Defaulting SQLALCHEMY_DATABASE_URI to \"sqlite:///:memory:\".\n",
      "  'Neither SQLALCHEMY_DATABASE_URI nor SQLALCHEMY_BINDS is set. '\n",
      "/home/hayley/.conda/envs/my_root/lib/python3.6/site-packages/flask_sqlalchemy/__init__.py:794: FSADeprecationWarning: SQLALCHEMY_TRACK_MODIFICATIONS adds significant overhead and will be disabled by default in the future.  Set it to True or False to suppress this warning.\n",
      "  'SQLALCHEMY_TRACK_MODIFICATIONS adds significant overhead and '\n"
     ]
    },
    {
     "ename": "OSError",
     "evalue": "[Errno 98] Address already in use",
     "output_type": "error",
     "traceback": [
      "\u001b[0;31m---------------------------------------------------------------------------\u001b[0m",
      "\u001b[0;31mOSError\u001b[0m                                   Traceback (most recent call last)",
      "\u001b[0;32m~/bounds_ay250_homework/hw_8/basic_site.py\u001b[0m in \u001b[0;36m<module>\u001b[0;34m()\u001b[0m\n\u001b[1;32m     99\u001b[0m \u001b[0;34m\u001b[0m\u001b[0m\n\u001b[1;32m    100\u001b[0m \u001b[0;32mif\u001b[0m \u001b[0m__name__\u001b[0m \u001b[0;34m==\u001b[0m \u001b[0;34m\"__main__\"\u001b[0m\u001b[0;34m:\u001b[0m\u001b[0;34m\u001b[0m\u001b[0m\n\u001b[0;32m--> 101\u001b[0;31m     \u001b[0mapp\u001b[0m\u001b[0;34m.\u001b[0m\u001b[0mrun\u001b[0m\u001b[0;34m(\u001b[0m\u001b[0;34m)\u001b[0m\u001b[0;34m\u001b[0m\u001b[0m\n\u001b[0m",
      "\u001b[0;32m~/.conda/envs/my_root/lib/python3.6/site-packages/flask/app.py\u001b[0m in \u001b[0;36mrun\u001b[0;34m(self, host, port, debug, **options)\u001b[0m\n\u001b[1;32m    839\u001b[0m         \u001b[0moptions\u001b[0m\u001b[0;34m.\u001b[0m\u001b[0msetdefault\u001b[0m\u001b[0;34m(\u001b[0m\u001b[0;34m'use_debugger'\u001b[0m\u001b[0;34m,\u001b[0m \u001b[0mself\u001b[0m\u001b[0;34m.\u001b[0m\u001b[0mdebug\u001b[0m\u001b[0;34m)\u001b[0m\u001b[0;34m\u001b[0m\u001b[0m\n\u001b[1;32m    840\u001b[0m         \u001b[0;32mtry\u001b[0m\u001b[0;34m:\u001b[0m\u001b[0;34m\u001b[0m\u001b[0m\n\u001b[0;32m--> 841\u001b[0;31m             \u001b[0mrun_simple\u001b[0m\u001b[0;34m(\u001b[0m\u001b[0mhost\u001b[0m\u001b[0;34m,\u001b[0m \u001b[0mport\u001b[0m\u001b[0;34m,\u001b[0m \u001b[0mself\u001b[0m\u001b[0;34m,\u001b[0m \u001b[0;34m**\u001b[0m\u001b[0moptions\u001b[0m\u001b[0;34m)\u001b[0m\u001b[0;34m\u001b[0m\u001b[0m\n\u001b[0m\u001b[1;32m    842\u001b[0m         \u001b[0;32mfinally\u001b[0m\u001b[0;34m:\u001b[0m\u001b[0;34m\u001b[0m\u001b[0m\n\u001b[1;32m    843\u001b[0m             \u001b[0;31m# reset the first request information if the development server\u001b[0m\u001b[0;34m\u001b[0m\u001b[0;34m\u001b[0m\u001b[0m\n",
      "\u001b[0;32m~/.conda/envs/my_root/lib/python3.6/site-packages/werkzeug/serving.py\u001b[0m in \u001b[0;36mrun_simple\u001b[0;34m(hostname, port, application, use_reloader, use_debugger, use_evalex, extra_files, reloader_interval, reloader_type, threaded, processes, request_handler, static_files, passthrough_errors, ssl_context)\u001b[0m\n\u001b[1;32m    793\u001b[0m             \u001b[0ms\u001b[0m \u001b[0;34m=\u001b[0m \u001b[0msocket\u001b[0m\u001b[0;34m.\u001b[0m\u001b[0msocket\u001b[0m\u001b[0;34m(\u001b[0m\u001b[0maddress_family\u001b[0m\u001b[0;34m,\u001b[0m \u001b[0msocket\u001b[0m\u001b[0;34m.\u001b[0m\u001b[0mSOCK_STREAM\u001b[0m\u001b[0;34m)\u001b[0m\u001b[0;34m\u001b[0m\u001b[0m\n\u001b[1;32m    794\u001b[0m             \u001b[0ms\u001b[0m\u001b[0;34m.\u001b[0m\u001b[0msetsockopt\u001b[0m\u001b[0;34m(\u001b[0m\u001b[0msocket\u001b[0m\u001b[0;34m.\u001b[0m\u001b[0mSOL_SOCKET\u001b[0m\u001b[0;34m,\u001b[0m \u001b[0msocket\u001b[0m\u001b[0;34m.\u001b[0m\u001b[0mSO_REUSEADDR\u001b[0m\u001b[0;34m,\u001b[0m \u001b[0;36m1\u001b[0m\u001b[0;34m)\u001b[0m\u001b[0;34m\u001b[0m\u001b[0m\n\u001b[0;32m--> 795\u001b[0;31m             \u001b[0ms\u001b[0m\u001b[0;34m.\u001b[0m\u001b[0mbind\u001b[0m\u001b[0;34m(\u001b[0m\u001b[0mget_sockaddr\u001b[0m\u001b[0;34m(\u001b[0m\u001b[0mhostname\u001b[0m\u001b[0;34m,\u001b[0m \u001b[0mport\u001b[0m\u001b[0;34m,\u001b[0m \u001b[0maddress_family\u001b[0m\u001b[0;34m)\u001b[0m\u001b[0;34m)\u001b[0m\u001b[0;34m\u001b[0m\u001b[0m\n\u001b[0m\u001b[1;32m    796\u001b[0m             \u001b[0;32mif\u001b[0m \u001b[0mhasattr\u001b[0m\u001b[0;34m(\u001b[0m\u001b[0ms\u001b[0m\u001b[0;34m,\u001b[0m \u001b[0;34m'set_inheritable'\u001b[0m\u001b[0;34m)\u001b[0m\u001b[0;34m:\u001b[0m\u001b[0;34m\u001b[0m\u001b[0m\n\u001b[1;32m    797\u001b[0m                 \u001b[0ms\u001b[0m\u001b[0;34m.\u001b[0m\u001b[0mset_inheritable\u001b[0m\u001b[0;34m(\u001b[0m\u001b[0;32mTrue\u001b[0m\u001b[0;34m)\u001b[0m\u001b[0;34m\u001b[0m\u001b[0m\n",
      "\u001b[0;31mOSError\u001b[0m: [Errno 98] Address already in use"
     ]
    }
   ],
   "source": [
    "%run basic_site.py"
   ]
  },
  {
   "cell_type": "markdown",
   "metadata": {},
   "source": [
    "# Part 2: Add travis testing to Basic Flask"
   ]
  },
  {
   "cell_type": "code",
   "execution_count": 220,
   "metadata": {},
   "outputs": [
    {
     "name": "stdout",
     "output_type": "stream",
     "text": [
      "Overwriting testing_test.py\n"
     ]
    }
   ],
   "source": [
    "%%writefile testing_test.py\n",
    "import os\n",
    "import unittest\n",
    "from basic_site import app\n",
    "\n",
    "class FlaskrTestCase(unittest.TestCase):\n",
    "\n",
    "    def setUp(self):\n",
    "        #self.db_fd, flaskr.app.config['DATABASE'] = tempfile.mkstemp()\n",
    "        app.testing = True\n",
    "        self.app = app.test_client()\n",
    "        #with flaskr.app.app_context():\n",
    "        #    flaskr.init_db()\n",
    "\n",
    "    def tearDown(self):\n",
    "        #os.close(self.db_fd)\n",
    "        #os.unlink(flaskr.app.config['DATABASE'])\n",
    "        pass\n",
    "    \n",
    "    def test_home_page(self):\n",
    "        rv = self.app.get('/')\n",
    "        assert b'Welcome!' in rv.data\n",
    "    \n",
    "    def submit_query(self, query):\n",
    "        #helper function to test querying\n",
    "        return self.app.post('/query_database/', data=dict(\n",
    "            query=query\n",
    "        ), follow_redirects=True)\n",
    "    \n",
    "    def test_query_submission(self):\n",
    "        \"\"\"tests invalid queries and queries to empty databases\"\"\"\n",
    "        assert b'Results for' in self.submit_query('SELECT * from bibliography').data\n",
    "        assert b'No results' in self.submit_query('SELECT * from bibliography').data\n",
    "        assert b'Invalid' in self.submit_query('').data\n",
    "        assert b'Invalid' in self.submit_query(' ').data        \n",
    "\n",
    "if __name__ == '__main__':\n",
    "    unittest.main()"
   ]
  },
  {
   "cell_type": "code",
   "execution_count": 221,
   "metadata": {},
   "outputs": [
    {
     "name": "stdout",
     "output_type": "stream",
     "text": [
      "/home/hayley/.conda/envs/my_root/lib/python3.6/site-packages/flask_sqlalchemy/__init__.py:774: UserWarning: Neither SQLALCHEMY_DATABASE_URI nor SQLALCHEMY_BINDS is set. Defaulting SQLALCHEMY_DATABASE_URI to \"sqlite:///:memory:\".\n",
      "  'Neither SQLALCHEMY_DATABASE_URI nor SQLALCHEMY_BINDS is set. '\n",
      "/home/hayley/.conda/envs/my_root/lib/python3.6/site-packages/flask_sqlalchemy/__init__.py:794: FSADeprecationWarning: SQLALCHEMY_TRACK_MODIFICATIONS adds significant overhead and will be disabled by default in the future.  Set it to True or False to suppress this warning.\n",
      "  'SQLALCHEMY_TRACK_MODIFICATIONS adds significant overhead and '\n",
      "..\n",
      "----------------------------------------------------------------------\n",
      "Ran 2 tests in 0.269s\n",
      "\n",
      "OK\n"
     ]
    }
   ],
   "source": [
    "!python testing_test.py"
   ]
  },
  {
   "cell_type": "markdown",
   "metadata": {},
   "source": [
    "# Part 3: Build a Database"
   ]
  },
  {
   "cell_type": "code",
   "execution_count": 125,
   "metadata": {},
   "outputs": [
    {
     "name": "stdout",
     "output_type": "stream",
     "text": [
      "Overwriting database.py\n"
     ]
    }
   ],
   "source": [
    "%%writefile database.py\n",
    "\n",
    "from flask import Flask\n",
    "from flask_sqlalchemy import SQLAlchemy\n",
    "\n",
    "db = SQLAlchemy()\n",
    " \n",
    "\n",
    "class Citation(db.Model):\n",
    "    __tablename__ = 'bibliography'\n",
    "    id = db.Column(db.Integer, primary_key=True)\n",
    "    ref_tag = db.Column(db.String)\n",
    "    Collection = db.Column(db.String)\n",
    "    Adsnote = db.Column(db.String)\n",
    "    Adsurl = db.Column(db.String)\n",
    "    Author = db.Column(db.String)\n",
    "    Date_Added = db.Column(db.Date)\n",
    "    Date_Modified = db.Column(db.Date)\n",
    "    Journal = db.Column(db.String)\n",
    "    Keywords = db.Column(db.String)\n",
    "    Month = db.Column(db.String)\n",
    "    Pages = db.Column(db.String) #I think?\n",
    "    Title = db.Column(db.String)\n",
    "    Volume = db.Column(db.Integer)\n",
    "    Year = db.Column(db.Integer)\n",
    "    Bdsk_File_1  = db.Column(db.String)"
   ]
  },
  {
   "cell_type": "markdown",
   "metadata": {},
   "source": [
    "# Part 4: Add travis to database"
   ]
  },
  {
   "cell_type": "markdown",
   "metadata": {},
   "source": [
    "# Part 5: Combine database + Flask"
   ]
  },
  {
   "cell_type": "markdown",
   "metadata": {},
   "source": [
    "# Part 6: add travis to that."
   ]
  }
 ],
 "metadata": {
  "kernelspec": {
   "display_name": "Python 3",
   "language": "python",
   "name": "python3"
  },
  "language_info": {
   "codemirror_mode": {
    "name": "ipython",
    "version": 3
   },
   "file_extension": ".py",
   "mimetype": "text/x-python",
   "name": "python",
   "nbconvert_exporter": "python",
   "pygments_lexer": "ipython3",
   "version": "3.6.3"
  }
 },
 "nbformat": 4,
 "nbformat_minor": 2
}
