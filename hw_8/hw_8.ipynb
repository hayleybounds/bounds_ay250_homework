{
 "cells": [
  {
   "cell_type": "markdown",
   "metadata": {},
   "source": [
    "# Homework 8\n",
    "Currently breaking it up into subsections that I can work on\n",
    "\n",
    "QUESTIONS:\n",
    "\n",
    "Should you be able to upload database files also??\n",
    "\n",
    "TODO:\n",
    "error handling on impromper queries / DONEISH\n",
    "\n",
    "\n",
    "display collections available / - DONE\n",
    "\n",
    "\n",
    "clear database /\n",
    "\n",
    "\n",
    "force reference tag to be unique? Or force some combo of reference tag + collection to be unique? /\n",
    "\n",
    "\n",
    "display text about how to query / DONE\n",
    "\n",
    "\n",
    "andd pre-text to query to eliminate the SELECT and such. / DONE\n",
    "\n",
    "\n",
    "testing, testing, testing /\n",
    "\n",
    "fix authors, DONE\n",
    "\n",
    "\n",
    "fix journals?, some sort of type\n",
    "\n"
   ]
  },
  {
   "cell_type": "code",
   "execution_count": 38,
   "metadata": {},
   "outputs": [
    {
     "name": "stderr",
     "output_type": "stream",
     "text": [
      "/home/hayley/.conda/envs/my_root/lib/python3.6/site-packages/flask_sqlalchemy/__init__.py:774: UserWarning: Neither SQLALCHEMY_DATABASE_URI nor SQLALCHEMY_BINDS is set. Defaulting SQLALCHEMY_DATABASE_URI to \"sqlite:///:memory:\".\n",
      "  'Neither SQLALCHEMY_DATABASE_URI nor SQLALCHEMY_BINDS is set. '\n",
      "/home/hayley/.conda/envs/my_root/lib/python3.6/site-packages/flask_sqlalchemy/__init__.py:794: FSADeprecationWarning: SQLALCHEMY_TRACK_MODIFICATIONS adds significant overhead and will be disabled by default in the future.  Set it to True or False to suppress this warning.\n",
      "  'SQLALCHEMY_TRACK_MODIFICATIONS adds significant overhead and '\n"
     ]
    }
   ],
   "source": [
    "from flask import Flask, render_template, request, url_for, redirect, flash\n",
    "import flask\n",
    "import pybtex.database as pb\n",
    "from flask_sqlalchemy import SQLAlchemy\n",
    "\n",
    "app = Flask(__name__)\n",
    "app.debug = True\n",
    "app.secret_key = 'Super Secret PW'\n",
    "db=SQLAlchemy(app)\n",
    "\n",
    "#TODO: somehow move at least some of this to another file?\n",
    "class Citation(db.Model):\n",
    "    __tablename__ = 'bibliography'\n",
    "    id = db.Column(db.Integer, primary_key=True)\n",
    "    ref_tag = db.Column(db.String)\n",
    "    Collection = db.Column(db.String)\n",
    "    #Adsnote = db.Column(db.String)\n",
    "    #Adsurl = db.Column(db.String)\n",
    "    Author = db.Column(db.String)\n",
    "    #Date_Added = db.Column(db.Date)\n",
    "    #Date_Modified = db.Column(db.Date)\n",
    "    Journal = db.Column(db.String)\n",
    "    Keywords = db.Column(db.String)\n",
    "    #Month = db.Column(db.String)\n",
    "    Pages = db.Column(db.String) #I think?\n",
    "    Title = db.Column(db.String)\n",
    "    Volume = db.Column(db.Integer)\n",
    "    Year = db.Column(db.Integer)\n",
    "    #Bdsk_File_1  = db.Column(db.String)\n",
    "    \n",
    "db.create_all()"
   ]
  },
  {
   "cell_type": "code",
   "execution_count": 5,
   "metadata": {},
   "outputs": [],
   "source": [
    "#test out pybtex\n",
    "import pybtex.database as pb\n",
    "\n",
    "def add_entry_to_db(key, entry, collection):\n",
    "    keywords = {}\n",
    "    for field in ['Title', 'Author','Journal', 'Keywords', 'Pages', 'Volume', 'Year']:\n",
    "        if field in entry.fields:\n",
    "            keywords[field] = entry.fields[field]\n",
    "        else:\n",
    "            keywords[field] = None\n",
    "    db.session.add(Citation(**keywords, Collection = collection, ref_tag = key))\n",
    "    db.session.commit()\n",
    "x=pb.parse_file('hw_8_data/homework_8_refs.bib')\n",
    "for k,v in x.entries.items():\n",
    "    add_entry_to_db(k, v, 'col')\n",
    "    \n",
    "    \n",
    "x=pb.parse_file('hw_8_data/homework_8_refs.bib')\n",
    "for k,v in x.entries.items():\n",
    "    add_entry_to_db(k, v, 'col2')"
   ]
  },
  {
   "cell_type": "code",
   "execution_count": 187,
   "metadata": {},
   "outputs": [
    {
     "data": {
      "text/plain": [
       "['{Reddenings of Cepheids using BVI photometry}',\n",
       " '{1777 variables in the Magellanic Clouds}',\n",
       " '{Periods of 25 Variable Stars in the Small Magellanic Cloud.}']"
      ]
     },
     "execution_count": 187,
     "metadata": {},
     "output_type": "execute_result"
    }
   ],
   "source": [
    "[c.Title for c in Citation.query.filter(Citation.Year < 1980).all()]"
   ]
  },
  {
   "cell_type": "code",
   "execution_count": 233,
   "metadata": {},
   "outputs": [],
   "source": [
    "res = db.session.execute('SELECT * FROM bibliography WHERE 3')"
   ]
  },
  {
   "cell_type": "markdown",
   "metadata": {},
   "source": [
    "# Part 1: Basic Flask Website Architecture"
   ]
  },
  {
   "cell_type": "code",
   "execution_count": 79,
   "metadata": {},
   "outputs": [
    {
     "name": "stdout",
     "output_type": "stream",
     "text": [
      "Overwriting templates/base.html\n"
     ]
    }
   ],
   "source": [
    "%%writefile templates/base.html\n",
    "<!DOCTYPE html>\n",
    "<html>\n",
    "    <head>\n",
    "        <title>My Super Site</title>\n",
    "    </head>\n",
    "\n",
    "    <body>\n",
    "        <h1>{{ page_title }}</h1>\n",
    "        \n",
    "        <h2>\n",
    "    <a href=\"{{ url_for('home') }}\">Home</a>\n",
    "    <a href=\"{{ url_for('query_db') }}\">Query Database</a>\n",
    "    <a href=\"{{ url_for('upload_file') }}\">Upload a File</a>\n",
    "    </h2>\n",
    "\n",
    "    {{ message | safe}}        \n",
    "    {% block content %}{% endblock %}        \n",
    "    </body>\n",
    "</html>\n"
   ]
  },
  {
   "cell_type": "code",
   "execution_count": 140,
   "metadata": {},
   "outputs": [
    {
     "name": "stdout",
     "output_type": "stream",
     "text": [
      "Overwriting templates/home.html\n"
     ]
    }
   ],
   "source": [
    "%%writefile templates/home.html\n",
    "{% extends \"base.html\" %}\n",
    "{% block content %}\n",
    "<form action=\"/home/\" method=\"POST\">\n",
    "            <input type=\"submit\" name = 'Clear_Database' value = 'Clear Database'/>\n",
    "</form>\n",
    "{% endblock %}"
   ]
  },
  {
   "cell_type": "code",
   "execution_count": 138,
   "metadata": {},
   "outputs": [
    {
     "name": "stdout",
     "output_type": "stream",
     "text": [
      "Overwriting templates/form.html\n"
     ]
    }
   ],
   "source": [
    "%%writefile templates/form.html\n",
    "{% extends \"base.html\" %}\n",
    "{% block content %}\n",
    "<p>\n",
    "            Query the database using sql query syntax, entering the string that follows the WHERE.\n",
    "            </br>\n",
    "            Column names are 'ReferenceTag','Collection', 'Title', 'Author','Journal', 'Keywords',\n",
    "              'Pages', 'Volume', 'Year' and 'id'.</br>\n",
    "            To use wildcards, use LIKE and % as a multiple character wildcard and _ as a single\n",
    "            character wildcard. </br>\n",
    "            Explicitly put strings in quotes. Note that the pages column is a string.</p>\n",
    "            <form action=\"/query_database/\" method=\"POST\">\n",
    "            Make a query: \n",
    "            <input type=\"text\" name=\"query\" />\n",
    "            <input type=\"submit\" value =\"Submit Query\"/>\n",
    "            </form>\n",
    "            {% with messages = get_flashed_messages() %}\n",
    "            {% if messages %}\n",
    "    <ul class=flashes>\n",
    "    {% for message in messages %}\n",
    "      <li>{{ message | safe}}</li>\n",
    "    {% endfor %}\n",
    "    </ul>\n",
    "  {% endif %}\n",
    "{% endwith %}\n",
    "{% endblock %}"
   ]
  },
  {
   "cell_type": "code",
   "execution_count": 141,
   "metadata": {},
   "outputs": [
    {
     "name": "stdout",
     "output_type": "stream",
     "text": [
      "Overwriting templates/file_up.html\n"
     ]
    }
   ],
   "source": [
    "%%writefile templates/file_up.html\n",
    "{% extends \"base.html\" %}\n",
    "\n",
    "{% set page_title = 'Choose file to upload' %}\n",
    "{% block content %}\n",
    "   \n",
    "      <form action = \"/upload_file/\" method = \"POST\" \n",
    "         enctype = \"multipart/form-data\">\n",
    "            Collection Name:\n",
    "        <input type = \"text\" name = \"collection_name\" />\n",
    "        File:\n",
    "         <input type = \"file\" name = \"file\" />\n",
    "         <input type = \"submit\" value = \"Upload File\"/>\n",
    "      </form>\n",
    "      \n",
    "{% endblock %}"
   ]
  },
  {
   "cell_type": "code",
   "execution_count": 85,
   "metadata": {},
   "outputs": [
    {
     "name": "stdout",
     "output_type": "stream",
     "text": [
      "Overwriting config.py\n"
     ]
    }
   ],
   "source": [
    "%%writefile config.py\n",
    "\n",
    "import os\n",
    "basedir = os.path.abspath(os.path.dirname(__file__))\n",
    "\n",
    "class Config(object):\n",
    "    # ...\n",
    "    SQLALCHEMY_DATABASE_URI = \\\n",
    "        'sqlite:///' + os.path.join(basedir, 'app.db')\n",
    "    SQLALCHEMY_TRACK_MODIFICATIONS = False\n",
    "    SECRET_KEY = 'Super Secret PASSWORD'\n",
    "    DEBUG = True"
   ]
  },
  {
   "cell_type": "code",
   "execution_count": 102,
   "metadata": {},
   "outputs": [
    {
     "name": "stdout",
     "output_type": "stream",
     "text": [
      "Overwriting basic_site.py\n"
     ]
    }
   ],
   "source": [
    "%%writefile basic_site.py\n",
    "\n",
    "from flask import Flask, render_template, request, url_for, redirect, flash\n",
    "import flask\n",
    "import pybtex.database as pb\n",
    "from flask_sqlalchemy import SQLAlchemy\n",
    "from config import Config\n",
    "import numpy as np\n",
    "from database import db, Citation\n",
    "from sqlalchemy.exc import OperationalError\n",
    "\n",
    "app = Flask(__name__)\n",
    "app.config.from_object(Config)\n",
    "with app.app_context():\n",
    "    db.init_app(app)\n",
    "    db.create_all()\n",
    "\n",
    "@app.route(\"/\")\n",
    "@app.route(\"/home\")\n",
    "@app.route(\"/home/\", methods=['GET', 'POST'])\n",
    "def home():\n",
    "    \"\"\"Welcomes the user and tells them how many collections are in the database.\"\"\"\n",
    "    if request.method == 'POST':\n",
    "        with app.app_context():\n",
    "            db.drop_all()\n",
    "            db.create_all()\n",
    "    if Citation.query.first() is None: #check for empty db\n",
    "        this_message = 'You have no collections. Upload a file to get started!'\n",
    "    else: #get number of collections and names\n",
    "        collections = np.unique(Citation.query.with_entities(Citation.Collection).all())\n",
    "        colls_w_sizes = [s+' (%s entries)' %get_size_collection(s) for s in collections]\n",
    "        this_message = ('You have %s collections, with names : ' % len(collections)) + \\\n",
    "                        ', '.join([s for s in colls_w_sizes]) \n",
    "    \n",
    "    return render_template('home.html', page_title=\"Home\",\n",
    "                           message=\"Welcome! </p>This is a site for querying bibtex files </p>\"+\n",
    "                                   this_message)\n",
    "\n",
    "@app.route('/query_database/', methods=['GET', 'POST'])\n",
    "def query_db():\n",
    "    if request.method == 'POST':\n",
    "        query = request.form['query']\n",
    "        #given a query, add the sql prefix stuff to it\n",
    "        query = 'SELECT * FROM bibliography WHERE ' + query\n",
    "        if query not in (\"\",\" \"):\n",
    "            try:\n",
    "                result=db.engine.execute(query).fetchall()\n",
    "            except OperationalError:\n",
    "                return render_template('form.html', page_title= 'Query Database', \n",
    "                                   message='Invalid query. Please try again.')\n",
    "            if len(result) > 0:\n",
    "                display_query_results(result)\n",
    "            else:\n",
    "                flash('No results to display :(')\n",
    "            return render_template('form.html', page_title= 'Results for : ' + query)\n",
    "        else:\n",
    "            return render_template('form.html', page_title= 'Query Database', \n",
    "                                   message='Invalid query. Please try again')\n",
    "    else:\n",
    "        ## this is a normal GET request\n",
    "        return render_template(\"form.html\", page_title = 'Query a Database :)')\n",
    "    \n",
    "@app.route('/upload_file/', methods=['GET', 'POST'])\n",
    "def upload_file():\n",
    "    if request.method == 'POST':\n",
    "        if 'file' not in request.files:\n",
    "            return render_template('file_up.html', message = 'Please Choose a File')\n",
    "        file = request.files['file']\n",
    "        coll_name = request.form['collection_name']\n",
    "        if coll_name not in (\"\",\" \"):\n",
    "            add_file_to_db(coll_name, file)\n",
    "            return render_template('base.html', page_title= coll_name)\n",
    "        else:\n",
    "            return render_template('file_up.html',\n",
    "                                   message = 'Please enter a valid collection name')\n",
    "    else:\n",
    "        ## this is a normal GET request\n",
    "        return render_template(\"file_up.html\", page_title = 'Upload a File :)')\n",
    "\n",
    "def display_query_results(results):\n",
    "    fields = ['ReferenceTag','Collection', 'Title', 'Author','Journal', 'Keywords',\n",
    "              'Pages', 'Volume', 'Year']\n",
    "    for row in results:\n",
    "        for field in fields:\n",
    "            if field == 'Year':\n",
    "                flash(field + ': ' + str(row[field]) + '</br></br>')\n",
    "            else:\n",
    "                flash(field + ': ' + str(row[field]))\n",
    "                \n",
    "def add_file_to_db(coll_name, file):\n",
    "    parsed_file=pb.parse_bytes(file.read(), bib_format='bibtex')\n",
    "    for k, entry in parsed_file.entries.items():\n",
    "        add_entry_to_db(k, entry, coll_name)\n",
    "                \n",
    "def add_entry_to_db(key, entry, collection):\n",
    "    keywords = {}\n",
    "    for field in ['Title', 'Journal', 'Keywords', 'Pages', 'Volume', 'Year']:\n",
    "        if field in entry.fields:\n",
    "            keywords[field] = format_btex_fields(entry.fields[field])\n",
    "        else:\n",
    "            keywords[field] = None\n",
    "    #handle author separately because its stored differently\n",
    "    if 'Author' in entry.persons:\n",
    "        author_list = [format_btex_fields(str(auth)) for auth in entry.persons['Author']]\n",
    "        keywords['Author'] = ', '.join(author_list)\n",
    "    else:\n",
    "        keywords['Author'] = None\n",
    "    with app.app_context():\n",
    "        db.session.add(Citation(**keywords, Collection = collection, ReferenceTag = key))\n",
    "        db.session.commit()\n",
    "    \n",
    "def format_btex_fields(string):\n",
    "    \"\"\"helper method to remove odd formatting from btex files\"\"\"\n",
    "    string = string.replace('{','')\n",
    "    string = string.replace('}','')\n",
    "    return string\n",
    "\n",
    "def get_size_collection(collection):\n",
    "    \"\"\"helper method to get the number of entries in a collection\"\"\"\n",
    "    return len(Citation.query.filter(Citation.Collection == collection).all())\n",
    "\n",
    "if __name__ == \"__main__\":\n",
    "    #setup_app()\n",
    "    app.run()"
   ]
  },
  {
   "cell_type": "code",
   "execution_count": 103,
   "metadata": {},
   "outputs": [
    {
     "name": "stdout",
     "output_type": "stream",
     "text": [
      "Overwriting database.py\n"
     ]
    }
   ],
   "source": [
    "%%writefile database.py\n",
    "\n",
    "from flask_sqlalchemy import SQLAlchemy\n",
    "\n",
    "db = SQLAlchemy()\n",
    "\n",
    "class Citation(db.Model):\n",
    "    __tablename__ = 'bibliography'\n",
    "    id = db.Column(db.Integer, primary_key=True)\n",
    "    ReferenceTag = db.Column(db.String)\n",
    "    Collection = db.Column(db.String)\n",
    "    Author = db.Column(db.String)\n",
    "    Journal = db.Column(db.String)\n",
    "    Keywords = db.Column(db.String)\n",
    "    Pages = db.Column(db.String)\n",
    "    Title = db.Column(db.String)\n",
    "    Volume = db.Column(db.Integer)\n",
    "    Year = db.Column(db.Integer)\n"
   ]
  },
  {
   "cell_type": "code",
   "execution_count": 99,
   "metadata": {
    "scrolled": true
   },
   "outputs": [
    {
     "name": "stderr",
     "output_type": "stream",
     "text": [
      " * Running on http://127.0.0.1:5000/ (Press CTRL+C to quit)\n",
      " * Restarting with stat\n"
     ]
    }
   ],
   "source": [
    "%run basic_site.py"
   ]
  },
  {
   "cell_type": "markdown",
   "metadata": {},
   "source": [
    "# Part 2: Add travis testing to Basic Flask"
   ]
  },
  {
   "cell_type": "code",
   "execution_count": 106,
   "metadata": {},
   "outputs": [
    {
     "name": "stdout",
     "output_type": "stream",
     "text": [
      "Overwriting testing_test.py\n"
     ]
    }
   ],
   "source": [
    "%%writefile testing_test.py\n",
    "import os\n",
    "import unittest\n",
    "from basic_site import app, db, Citation, add_file_to_db\n",
    "from io import BytesIO\n",
    "from flask_sqlalchemy import SQLAlchemy\n",
    "\n",
    "class FlaskTestCase(unittest.TestCase):\n",
    "\n",
    "    def setUp(self):\n",
    "        self.app = app.test_client()\n",
    "        with app.app_context():\n",
    "            db.drop_all()\n",
    "            db.create_all()\n",
    "    \n",
    "    def test_home_page(self):\n",
    "        rv = self.app.get('/')\n",
    "        assert b'Welcome!' in rv.data\n",
    "    \n",
    "    def submit_query(self, query):\n",
    "        #helper function to test querying\n",
    "        return self.app.post('/query_database/', data=dict(\n",
    "            query=query\n",
    "        ), follow_redirects=True)\n",
    "    \n",
    "    def test_query_page(self):\n",
    "        rv = self.app.get('/query_database/')\n",
    "        assert b'name=\"query\"' in rv.data\n",
    "    \n",
    "    def test_upload_file_page(self):\n",
    "        rv = self.app.get('/upload_file/')\n",
    "        \n",
    "        assert b'Choose file to upload' in rv.data\n",
    "        assert b'Upload a File' in rv.data\n",
    "    \n",
    "    def upload_file(self, coll_name, file, filename):\n",
    "        \"\"\"helper method to mimic the user choosing a file and collection name\"\"\"\n",
    "        data = {\n",
    "            'collection_name': coll_name,\n",
    "            'file': (file, filename)\n",
    "        }\n",
    "\n",
    "        return self.app.post('/upload_file/', buffered=True,\n",
    "                         content_type='multipart/form-data',\n",
    "                         data=data)\n",
    "        \n",
    "    def test_file_upload(self):\n",
    "        rv = self.upload_file('ex', open('hw_8_data/homework_8_refs.bib','rb'),\n",
    "                              'hw_8_data/homework_8_refs.bib')\n",
    "        assert rv.status_code == 200\n",
    "        assert b'ex' in rv.data\n",
    "        with app.app_context():\n",
    "            assert len(Citation.query.all()) > 0\n",
    "    \n",
    "    def test_query_submission(self):\n",
    "        \"\"\"tests invalid queries and queries to empty databases\"\"\"\n",
    "        assert b':(' in self.submit_query('Year < 1930').data\n",
    "        assert b'Invalid' in self.submit_query('').data\n",
    "        assert b'Invalid' in self.submit_query(' ').data\n",
    "    \n",
    "    def test_bad_file_upload(self):\n",
    "        \"\"\"tests failure to provide collection names or to choose a file\"\"\"\n",
    "        rv = self.upload_file('',open('hw_8_data/homework_8_refs.bib','rb'),\n",
    "                              'hw_8_data/homework_8_refs.bib')\n",
    "        assert b'enter a valid collection name' in rv.data        \n",
    "        data = {'collection_name': 'ex' }\n",
    "\n",
    "        rv = self.app.post('/upload_file/', buffered=True,\n",
    "                         content_type='multipart/form-data',\n",
    "                         data=data)\n",
    "        assert b'Please Choose a File' in rv.data\n",
    "\n",
    "    def test_homepage_text(self):\n",
    "        \"\"\"test that the homepage properly displays collection info\"\"\"\n",
    "        rv = self.app.get('/home/')\n",
    "        assert b'no collections' in rv.data\n",
    "    \n",
    "    def test_homepage_text_not_empty(self):\n",
    "        #then add collections and test that it shows them and entries\n",
    "        add_file_to_db('ex', open('hw_8_data/homework_8_refs.bib','rb'))\n",
    "        add_file_to_db('ex2', open('hw_8_data/homework_8_refs.bib','rb'))\n",
    "        rv = self.app.get('/home/')\n",
    "        assert b'ex (46 entries)' in rv.data\n",
    "        assert b'ex2 (46 entries)' in rv.data\n",
    "        \n",
    "    def test_real_query(self):\n",
    "        add_file_to_db('ex', open('hw_8_data/homework_8_refs.bib','rb'))\n",
    "        rv = self.submit_query('Author LIKE \"%Dean%\"')\n",
    "        assert b'Dean' in rv.data\n",
    "        assert b'Reddenings of Cepheids' in rv.data\n",
    "\n",
    "if __name__ == '__main__':\n",
    "    unittest.main()"
   ]
  },
  {
   "cell_type": "code",
   "execution_count": null,
   "metadata": {},
   "outputs": [
    {
     "name": "stdout",
     "output_type": "stream",
     "text": [
      "....testing_test.py:79: ResourceWarning: unclosed file <_io.BufferedReader name='hw_8_data/homework_8_refs.bib'>\n",
      "  add_file_to_db('ex', open('hw_8_data/homework_8_refs.bib','rb'))\n",
      "testing_test.py:80: ResourceWarning: unclosed file <_io.BufferedReader name='hw_8_data/homework_8_refs.bib'>\n",
      "  add_file_to_db('ex2', open('hw_8_data/homework_8_refs.bib','rb'))\n",
      "..."
     ]
    }
   ],
   "source": [
    "!python testing_test.py"
   ]
  },
  {
   "cell_type": "code",
   "execution_count": null,
   "metadata": {},
   "outputs": [],
   "source": []
  }
 ],
 "metadata": {
  "kernelspec": {
   "display_name": "Python 3",
   "language": "python",
   "name": "python3"
  },
  "language_info": {
   "codemirror_mode": {
    "name": "ipython",
    "version": 3
   },
   "file_extension": ".py",
   "mimetype": "text/x-python",
   "name": "python",
   "nbconvert_exporter": "python",
   "pygments_lexer": "ipython3",
   "version": "3.6.3"
  }
 },
 "nbformat": 4,
 "nbformat_minor": 2
}
