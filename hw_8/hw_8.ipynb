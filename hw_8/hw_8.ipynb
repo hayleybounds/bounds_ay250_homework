{
 "cells": [
  {
   "cell_type": "markdown",
   "metadata": {},
   "source": [
    "# Homework 8\n",
    "Currently breaking it up into subsections that I can work on\n",
    "\n",
    "QUESTIONS:\n",
    "\n",
    "Should you be able to upload database files also??"
   ]
  },
  {
   "cell_type": "markdown",
   "metadata": {},
   "source": [
    "# Part 1: Basic Flask Website Architecture"
   ]
  },
  {
   "cell_type": "code",
   "execution_count": 51,
   "metadata": {},
   "outputs": [
    {
     "name": "stdout",
     "output_type": "stream",
     "text": [
      "Overwriting templates/base.html\n"
     ]
    }
   ],
   "source": [
    "%%writefile templates/base.html\n",
    "<!DOCTYPE html>\n",
    "<html>\n",
    "    <head>\n",
    "        <title>My Super Site</title>\n",
    "    </head>\n",
    "\n",
    "    <body>\n",
    "        <h1>{{ page_title }}</h1>\n",
    "        \n",
    "        <h2>\n",
    "    <a href=\"{{ url_for('home') }}\">Home</a>\n",
    "    <a href=\"{{ url_for('query_db') }}\">Query Database</a>\n",
    "    <a href=\"{{ url_for('upload_file') }}\">Upload a File</a>\n",
    "    </h2>\n",
    "\n",
    "        \n",
    "{% block content %}{% endblock %}        \n",
    "    </body>\n",
    "</html>\n"
   ]
  },
  {
   "cell_type": "code",
   "execution_count": 52,
   "metadata": {},
   "outputs": [
    {
     "name": "stdout",
     "output_type": "stream",
     "text": [
      "Overwriting templates/form.html\n"
     ]
    }
   ],
   "source": [
    "%%writefile templates/form.html\n",
    "{% extends \"base.html\" %}\n",
    "{% set page_title = 'My Form' %}\n",
    "{% block content %}\n",
    "            <form action=\"/query_database/\" method=\"POST\">\n",
    "            Make a query: \n",
    "            <input type=\"text\" name=\"query\" />\n",
    "            <input type=\"submit\" />\n",
    "            </form>\n",
    "{% endblock %}"
   ]
  },
  {
   "cell_type": "code",
   "execution_count": 24,
   "metadata": {},
   "outputs": [
    {
     "name": "stdout",
     "output_type": "stream",
     "text": [
      "Overwriting templates/file_up.html\n"
     ]
    }
   ],
   "source": [
    "%%writefile templates/file_up.html\n",
    "{% extends \"base.html\" %}\n",
    "\n",
    "{% set page_title = 'Choose file to upload' %}\n",
    "{% block content %}\n",
    "   \n",
    "      <form action = \"/upload_file/\" method = \"POST\" \n",
    "         enctype = \"multipart/form-data\">\n",
    "        <input type = \"text\" name = \"collection_name\" />\n",
    "\n",
    "         <input type = \"file\" name = \"file\" />\n",
    "         <input type = \"submit\"/>\n",
    "      </form>\n",
    "      \n",
    "{% endblock %}"
   ]
  },
  {
   "cell_type": "code",
   "execution_count": 27,
   "metadata": {},
   "outputs": [
    {
     "name": "stdout",
     "output_type": "stream",
     "text": [
      "Overwriting basic_site.py\n"
     ]
    }
   ],
   "source": [
    "%%writefile basic_site.py\n",
    "\n",
    "from flask import Flask, render_template, request, url_for, redirect\n",
    "import flask\n",
    "import pybtex.database as pb\n",
    "\n",
    "app = Flask(__name__)\n",
    "app.debug = True\n",
    "\n",
    "@app.route(\"/\")\n",
    "@app.route(\"/home\")\n",
    "def home():\n",
    "    return render_template('base.html', \n",
    "                            page_title=\"Home\", \n",
    "                            content=\"woo\")\n",
    "\n",
    "#No idea why I need this, but I do :()\n",
    "@app.route(\"/login\")\n",
    "def redirect_to_home():\n",
    "    y+=1\n",
    "    print('and finally here')\n",
    "    ## 301 is an HTTP error code\n",
    "    return redirect(\"/home\",301)\n",
    "\n",
    "\n",
    "@app.route('/query_database/', methods=['GET', 'POST'])\n",
    "def query_db():\n",
    "    if request.method == 'POST':\n",
    "        query = request.form['query']\n",
    "        if query not in (\"\",\" \",None):\n",
    "            return render_template('base.html', \n",
    "                                   page_title= query, \n",
    "                                   content=\"You queried %s. Too bad nothing works yet.\" % query)\n",
    "        else:\n",
    "            return render_template('base.html', \n",
    "                                   page_title= 'Nope', \n",
    "                                   content='Thats so not a query. come on man.' +\n",
    "                                   'Please give a query here: BUT MY LINKS ARENT HERE YET')\n",
    "    else:\n",
    "        ## this is a normal GET request\n",
    "        return render_template(\"form.html\", page_title = 'Query a Database :)')\n",
    "    \n",
    "    \n",
    "    \n",
    "@app.route('/upload_file/', methods=['GET', 'POST'])\n",
    "def upload_file():\n",
    "    if request.method == 'POST':\n",
    "        if 'file' not in request.files:\n",
    "\n",
    "            return render_template('base.html', \n",
    "                                   page_title= \"NO FILE?!??\", content ='boo')\n",
    "        file = request.files['file']\n",
    "        if file not in (\"\",\" \",None):\n",
    "            coll_name = request.form['collection_name']\n",
    "            if coll_name not in (\"\",\" \",None):\n",
    "                #read and convert to this database thing.\n",
    "                x=pb.parse_bytes(file.read(), bib_format='bibtex')\n",
    "                return render_template('base.html', \n",
    "                                       page_title= coll_name,\n",
    "                                       content=\"nice\")\n",
    "        else:\n",
    "            return render_template('base.html', \n",
    "                                   page_title= 'Nope', \n",
    "                                   content='Thats so not a query. come on man.' +\n",
    "                                   'Please give a query here: BUT MY LINKS ARENT HERE YET')\n",
    "    else:\n",
    "        ## this is a normal GET request\n",
    "        return render_template(\"file_up.html\", page_title = 'Upload a File :)')\n",
    "\n",
    "\n",
    "if __name__ == \"__main__\":\n",
    "    app.run()"
   ]
  },
  {
   "cell_type": "code",
   "execution_count": 58,
   "metadata": {},
   "outputs": [
    {
     "name": "stderr",
     "output_type": "stream",
     "text": [
      " * Running on http://127.0.0.1:5000/ (Press CTRL+C to quit)\n",
      " * Restarting with stat\n"
     ]
    }
   ],
   "source": [
    "%run basic_site.py"
   ]
  },
  {
   "cell_type": "markdown",
   "metadata": {},
   "source": [
    "# Part 2: Add travis testing to Basic Flask"
   ]
  },
  {
   "cell_type": "markdown",
   "metadata": {},
   "source": [
    "# Part 3: Build a Database"
   ]
  },
  {
   "cell_type": "markdown",
   "metadata": {},
   "source": [
    "# Part 4: Add travis to database"
   ]
  },
  {
   "cell_type": "markdown",
   "metadata": {},
   "source": [
    "# Part 5: Combine database + Flask"
   ]
  },
  {
   "cell_type": "markdown",
   "metadata": {},
   "source": [
    "# Part 6: add travis to that."
   ]
  }
 ],
 "metadata": {
  "kernelspec": {
   "display_name": "Python 3",
   "language": "python",
   "name": "python3"
  },
  "language_info": {
   "codemirror_mode": {
    "name": "ipython",
    "version": 3
   },
   "file_extension": ".py",
   "mimetype": "text/x-python",
   "name": "python",
   "nbconvert_exporter": "python",
   "pygments_lexer": "ipython3",
   "version": "3.6.3"
  }
 },
 "nbformat": 4,
 "nbformat_minor": 2
}
