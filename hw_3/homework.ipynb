{
 "cells": [
  {
   "cell_type": "markdown",
   "metadata": {},
   "source": [
    "# Interaction with the World Homework (#3)\n",
    "Python Computing for Data Science (c) J Bloom, UC Berkeley 2018\n",
    "\n",
    "Due Tuesday 2pm, Feb 20, 2018"
   ]
  },
  {
   "cell_type": "markdown",
   "metadata": {},
   "source": [
    "# 1) Monty: The Python Siri\n",
    "\n",
    "Let's make a Siri-like program (call it Monty!) with the following properties:\n",
    "   - record your voice command\n",
    "   - use a webservice to parse that sound file into text\n",
    "   - based on what the text, take three different types of actions:\n",
    "       - send an email to yourself\n",
    "       - do some math\n",
    "       - tell a joke\n",
    "\n",
    "So for example, if you say \"Monty: email me with subject hello and body goodbye\", it will email you with the appropriate subject and body. If you say \"Monty: tell me a joke\" then it will go to the web and find a joke and print it for you. If you say, \"Monty: calculate two times three\" it should response with printing the number 6.\n",
    "\n",
    "Hint: you can use speed-to-text apps like Houndify (or, e.g., Google Speech https://cloud.google.com/speech/) to return the text (but not do the actions). You'll need to sign up for a free API and then follow documentation instructions for using the service within Python. "
   ]
  },
  {
   "cell_type": "code",
   "execution_count": 204,
   "metadata": {},
   "outputs": [],
   "source": [
    "import pyaudio\n",
    "from bs4 import BeautifulSoup\n",
    "import requests\n",
    "import io\n",
    "import os\n",
    "import numpy as np\n",
    "def transcribe_file(speech_file):\n",
    "    \"\"\"Transcribe the given audio file.\"\"\"\n",
    "    from google.cloud import speech\n",
    "    from google.cloud.speech import enums\n",
    "    from google.cloud.speech import types\n",
    "    client = speech.SpeechClient()\n",
    "\n",
    "    # [START migration_sync_request]\n",
    "    # [START migration_audio_config_file]\n",
    "    with io.open(speech_file, 'rb') as audio_file:\n",
    "        content = audio_file.read()\n",
    "\n",
    "    audio = types.RecognitionAudio(content=content)\n",
    "    config = types.RecognitionConfig(\n",
    "        encoding=enums.RecognitionConfig.AudioEncoding.LINEAR16,\n",
    "        sample_rate_hertz=16000,\n",
    "        language_code='en-US')\n",
    "    # [END migration_audio_config_file]\n",
    "\n",
    "    # [START migration_sync_response]\n",
    "    response = client.recognize(config, audio)\n",
    "    # [END migration_sync_request]\n",
    "    # Each result is for a consecutive portion of the audio. Iterate through\n",
    "    # them to get the transcripts for the entire audio file.\n",
    "    for result in response.results:\n",
    "        # The first alternative is the most likely one for this portion.\n",
    "        print('Transcript: {}'.format(result.alternatives[0].transcript))\n",
    "    return result.alternatives[0].transcript\n",
    "    # [END migration_sync_response]\n",
    "# [END def_transcribe_file]\n",
    "\n"
   ]
  },
  {
   "cell_type": "code",
   "execution_count": null,
   "metadata": {},
   "outputs": [
    {
     "name": "stdout",
     "output_type": "stream",
     "text": [
      "created object\n",
      "created stream\n",
      "hello\n"
     ]
    }
   ],
   "source": [
    "#record a file and save it\n",
    "\n",
    "chunk = 1024\n",
    "FORMAT = pyaudio.paInt32\n",
    "CHANNELS = 1\n",
    "RATE = 44100\n",
    "RECORD_SECONDS = 10\n",
    "WAVE_OUTPUT_FILENAME = \"new2.wav\"\n",
    "p = pyaudio.PyAudio()\n",
    "print('created object')\n",
    "stream = p.open(format = FORMAT,\n",
    "    channels = CHANNELS,\n",
    "    rate = RATE,\n",
    "    input = True,\n",
    "    frames_per_buffer = chunk,\n",
    "               input_device_index = 1)\n",
    "print('created stream')\n",
    "all = []\n",
    "for i in range(0, int(RATE / chunk * RECORD_SECONDS)):\n",
    "    print('hello')\n",
    "    data = stream.read(chunk)\n",
    "    print('hey')\n",
    "    all.append(data)\n",
    "print(\"* done recording\")\n",
    "stream.close()\n",
    "p.terminate()\n",
    "import wave\n",
    "data = b\"\".join(all)\n",
    "wf = wave.open(WAVE_OUTPUT_FILENAME, \"wb\")\n",
    "wf.setnchannels(CHANNELS)\n",
    "wf.setsampwidth(p.get_sample_size(FORMAT))\n",
    "wf.setframerate(RATE)\n",
    "wf.writeframes(data)\n",
    "wf.close()"
   ]
  },
  {
   "cell_type": "code",
   "execution_count": 14,
   "metadata": {},
   "outputs": [
    {
     "name": "stdout",
     "output_type": "stream",
     "text": [
      "Transcript: how old is the Brooklyn Bridge\n"
     ]
    }
   ],
   "source": [
    "#!export GOOGLE_APPLICATION_CREDENTIALS=\"/home/hayley/Downloads/My First Project-8492b98d533d.json\"\n",
    "#get the transcription of the file\n",
    "transcript = transcribe_file('/home/hayley/python-docs-samples/speech/cloud-client/resources/audio.raw')"
   ]
  },
  {
   "cell_type": "code",
   "execution_count": 23,
   "metadata": {},
   "outputs": [],
   "source": [
    "import smtplib\n",
    "import os\n",
    "from email.mime.multipart import MIMEMultipart\n",
    "from email.mime.base import MIMEBase\n",
    "from email.mime.text import MIMEText\n",
    "from email import encoders as Encoders\n",
    "from email.utils import COMMASPACE, formatdate\n",
    "\n",
    "def mail(sender, pwd, to, subject, text, files=[]):\n",
    "    msg = MIMEMultipart()\n",
    "    msg[\"From\"] = sender\n",
    "    msg[\"To\"] = COMMASPACE.join(to)\n",
    "    msg[\"Date\"] = formatdate(localtime=True)\n",
    "    msg[\"Subject\"] = subject\n",
    "    msg.attach(MIMEText(text))\n",
    "    for file in files:\n",
    "        part = MIMEBase(\"application\", \"octet-stream\")\n",
    "        part.set_payload( open(file,\"rb\").read() )\n",
    "        Encoders.encode_base64(part)\n",
    "        part.add_header(\"Content-Disposition\", \"attachment; filename='%s'\"\n",
    "                       % os.path.basename(file))\n",
    "        msg.attach(part)\n",
    "    # Note that we need to designate the remote SMTP server we want to use.\n",
    "    mailServer = smtplib.SMTP(\"smtp.gmail.com\", 587)\n",
    "    mailServer.starttls()\n",
    "    mailServer.login(sender, pwd)\n",
    "    mailServer.sendmail(sender, to, msg.as_string())\n",
    "    mailServer.close()\n"
   ]
  },
  {
   "cell_type": "code",
   "execution_count": 37,
   "metadata": {},
   "outputs": [],
   "source": [
    "def send_mail(transcript):\n",
    "    t = transcript.split()\n",
    "    try:\n",
    "        subjind = t.index('subject')\n",
    "    except: \n",
    "        try:\n",
    "            subjind = t.index('Subject')\n",
    "        except:\n",
    "            print('no subject found!')\n",
    "            return\n",
    "    try:\n",
    "        bodyind = t.index('body')\n",
    "    except: \n",
    "        try:\n",
    "            bodyind = t.index('Body')\n",
    "        except:\n",
    "            print('no body found!')\n",
    "            return    \n",
    "        \n",
    "    if subjind < bodyind:\n",
    "        subject_text = [s for i, s in enumerate(t) if i > subjind and i < bodyind]\n",
    "        body_text = [s for i, s in enumerate(t) if i > bodyind]\n",
    "    else:\n",
    "        subject_text = [s for i, s in enumerate(t) if i > subjind]\n",
    "        body_text = [s for i, s in enumerate(t) if i > bodyind and i < subjind]\n",
    "    subject_text = ' '.join(subject_text)\n",
    "    body_text = ' '.join(body_text)\n",
    "        \n",
    "    mail('hbfake6','hawkfrost','hayleybounds@gmail.com', subject_text, body_text)"
   ]
  },
  {
   "cell_type": "code",
   "execution_count": 318,
   "metadata": {},
   "outputs": [],
   "source": [
    "def tell_joke():\n",
    "    jokes_req = requests.get(\n",
    "        \"http://www.quickfunnyjokes.com/funnythoughts.html\")\n",
    "    soup = BeautifulSoup(jokes_req.text,\"html.parser\")\n",
    "    #all but the last item surrounded by span are joke sections, but the first and last two are weirdly formatted, so skip them\n",
    "    joke_secs = soup.findAll('span')[1:len(soup.findAll('span'))-4]\n",
    "    #convert this to list of lists of jokes, and convert from beautifulsoup navigable string type to a normal string\n",
    "    jokes_as_strings = [[str(s) for s in sec.contents] for sec in joke_secs]\n",
    "    #then randomly select one of the 7 joke sections\n",
    "    selection = np.random.randint(0,4)\n",
    "    joke_array = np.asarray(jokes_as_strings[selection])[0:len(jokes_as_strings[1])-1:4]\n",
    "    #get rid of some weird leftover formatting\n",
    "    joke_array = [s.replace('\\n','') for s in joke_array]\n",
    "    joke_array = [s.replace('â',\"'\") for s in joke_array]\n",
    "    #and then select a random joke from that subset of jokes\n",
    "    print(joke_array[np.random.randint(0, len(joke_array))])\n"
   ]
  },
  {
   "cell_type": "code",
   "execution_count": null,
   "metadata": {},
   "outputs": [],
   "source": [
    "def do_math(transcript):\n",
    "    pass"
   ]
  },
  {
   "cell_type": "code",
   "execution_count": 18,
   "metadata": {},
   "outputs": [
    {
     "name": "stdout",
     "output_type": "stream",
     "text": [
      "Bridge\n"
     ]
    }
   ],
   "source": [
    "# decide what action to take based on the text in transcript\n",
    "if 'email' in transcript | 'mail' in transcript:\n",
    "    send_mail(transcript)\n",
    "elif 'joke' in transcript:\n",
    "    tell_joke()\n",
    "else:\n",
    "    do_math(transcript)\n",
    "    "
   ]
  },
  {
   "cell_type": "code",
   "execution_count": 3,
   "metadata": {},
   "outputs": [
    {
     "data": {
      "text/plain": [
       "Text(0.5,1,'Audio Analysis')"
      ]
     },
     "execution_count": 3,
     "metadata": {},
     "output_type": "execute_result"
    },
    {
     "data": {
      "image/png": "[encoded data removed]",
      "text/plain": [
       "<matplotlib.figure.Figure at 0x7f286c89cd68>"
      ]
     },
     "metadata": {},
     "output_type": "display_data"
    }
   ],
   "source": [
    "%matplotlib inline\n",
    "import numpy as np\n",
    "import matplotlib.pyplot as plt\n",
    "from scipy import *\n",
    "\n",
    "integer_data = fromstring(data, dtype=np.int32)\n",
    "time = arange(size(integer_data)) / float(RATE)\n",
    "plot_title = (\"Audio Analysis\")\n",
    "\n",
    "fig = plt.figure(figsize=(7, 4.5))\n",
    "ax1 = fig.add_subplot(1,1,1)\n",
    "ax1.plot(time, integer_data, color=\"red\", linestyle=\"-\")\n",
    "ax1.set_xlabel(\"Time [s]\")\n",
    "ax1.set_ylabel(\"Amplitude\")\n",
    "ax1.set_xlim(min(time), max(time))\n",
    "ax1.set_title(plot_title)"
   ]
  },
  {
   "cell_type": "markdown",
   "metadata": {},
   "source": [
    "# 2) Write a program that identifies musical notes from sound (AIFF) files. \n",
    "\n",
    "  - Run it on the supplied sound files (12) and report your program’s results. \n",
    "  - Use the labeled sounds (4) to make sure it works correctly. The provided sound files contain 1-3 simultaneous notes from different organs.\n",
    "  - Save copies of any example plots to illustrate how your program works.\n",
    "  \n",
    "  https://piazza.com/berkeley/spring2018/ay250class13410/resources -> Homeworks -> hw3_sound_files.zip"
   ]
  },
  {
   "cell_type": "markdown",
   "metadata": {},
   "source": [
    "Hints: You’ll want to decompose the sound into a frequency power spectrum. Use a Fast Fourier Transform. Be care about “unpacking” the string hexcode into python data structures. The sound files use 32 bit data. Play around with what happens when you convert the string data to other integer sizes, or signed vs unsigned integers. Also, beware of harmonics."
   ]
  },
  {
   "cell_type": "code",
   "execution_count": null,
   "metadata": {},
   "outputs": [],
   "source": []
  }
 ],
 "metadata": {
  "kernelspec": {
   "display_name": "Python 3",
   "language": "python",
   "name": "python3"
  },
  "language_info": {
   "codemirror_mode": {
    "name": "ipython",
    "version": 3
   },
   "file_extension": ".py",
   "mimetype": "text/x-python",
   "name": "python",
   "nbconvert_exporter": "python",
   "pygments_lexer": "ipython3",
   "version": "3.6.3"
  }
 },
 "nbformat": 4,
 "nbformat_minor": 1
}
